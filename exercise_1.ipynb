{
  "cells": [
    {
      "cell_type": "markdown",
      "metadata": {
        "id": "0mb7xhz1CNQO"
      },
      "source": [
        "# Exercise 1: PCA, ICA and Sparse Coding"
      ]
    },
    {
      "cell_type": "markdown",
      "metadata": {
        "id": "GxsPfsT_CNQP"
      },
      "source": [
        "**Note**: Please insert the names of all participating students:\n",
        "\n",
        "1.\n",
        "2.\n",
        "3.\n",
        "4.\n",
        "5."
      ]
    },
    {
      "cell_type": "markdown",
      "metadata": {
        "id": "sqHtv_E_CNQP"
      },
      "source": [
        "## Preamble\n",
        "The following code downloads and imports all necessary files and modules into the virtual machine of Colab. Please make sure to execute it before solving this exercise."
      ]
    },
    {
      "cell_type": "code",
      "execution_count": 2,
      "metadata": {
        "id": "Pk5NKcA9CNQP",
        "outputId": "673d1cd0-928e-4b9a-ff3a-d4b2b1ab93b2",
        "colab": {
          "base_uri": "https://localhost:8080/"
        }
      },
      "outputs": [
        {
          "output_type": "stream",
          "name": "stdout",
          "text": [
            "Cloning into 'cs5450'...\n",
            "remote: Enumerating objects: 130, done.\u001b[K\n",
            "remote: Counting objects: 100% (69/69), done.\u001b[K\n",
            "remote: Compressing objects: 100% (56/56), done.\u001b[K\n",
            "remote: Total 130 (delta 40), reused 28 (delta 13), pack-reused 61 (from 1)\u001b[K\n",
            "Receiving objects: 100% (130/130), 28.16 MiB | 20.33 MiB/s, done.\n",
            "Resolving deltas: 100% (67/67), done.\n"
          ]
        }
      ],
      "source": [
        "import sys, os\n",
        "if 'google.colab' in sys.modules:\n",
        "  if os.getcwd() == '/content':\n",
        "    !git clone 'https://github.com/inb-luebeck/cs5450.git'\n",
        "    os.chdir('cs5450')"
      ]
    },
    {
      "cell_type": "markdown",
      "metadata": {
        "id": "7AwPZi9dCNQP"
      },
      "source": [
        "## Exercise 1.1: Applying unsupervised methods\n",
        "\n",
        "In this exercise, we will apply three unsupervised methods, namely *Principal Component Analysis (PCA)*, *Independent Component Analysis (ICA)*, and *Sparse Coding (SC)* to image patches taken from handwriting digits and faces.\n",
        "\n",
        "Since implementing [ICA](https://scikit-learn.org/stable/modules/generated/sklearn.decomposition.FastICA.html) and [SC](https://scikit-learn.org/stable/modules/generated/sklearn.decomposition.SparseCoder.html) is rather complex, we will use already existing python packages.\n",
        "\n",
        "We will build on the python starter code given below. You only need to write code at the places indicated by `TODO`.\n",
        "The two given datasets are `mnist.npz` for handwritten digits and `olivetti.npz` for faces. Each dataset contains a multi-dimensional array `data` with the first index corresponding to the observations and the second index corresponding to the features (grayscale pixels). Both datasets contain square-shaped images.\n",
        "\n",
        "Implement the missing parts below. When done correctly, your code should do the following:\n",
        "1. Load the dataset with either handwritten images or faces.\n",
        "2. Enforce mean-free observations by subtracting the mean from the data.\n",
        "3. Randomly draw square-shaped image patches from the data.\n",
        "4. Apply one of the three unsupervised methods (PCA, ICA, or SC).\n",
        "5. Show the resulting set of new basis vectors (i.e., the components for PCA and ICA).\n",
        "6. Reconstruct the original image patches with different subsets of basis vectors.\n",
        "\n",
        "Note that for sparse coding, the basis vectors are not ordered according to some metric (*unlike which method?*). To quickly reconstruct an image with only $i$ non-zero values, you should use the coefficients and basis vectors corresponding to the $i$ highest absolute coefficients (see [numpy.argsort](https://numpy.org/doc/stable/reference/generated/numpy.argsort.html)).\n",
        "\n",
        "In case you are struggeling with the task, here are some helpful tips and hints:\n",
        "1. Useful functions: [`numpy.load`](https://docs.scipy.org/doc/numpy/reference/generated/numpy.load.html), [`ndarray.astype`](https://docs.scipy.org/doc/numpy/reference/generated/numpy.ndarray.astype.html), [`numpy.mean`](https://docs.scipy.org/doc/numpy/reference/generated/numpy.mean.html), [`numpy.linalg.pinv`](https://docs.scipy.org/doc/numpy/reference/generated/numpy.linalg.pinv.html), [`numpy.matmul`](https://docs.scipy.org/doc/numpy/reference/generated/numpy.matmul.html), [`numpy.stack`](https://docs.scipy.org/doc/numpy/reference/generated/numpy.stack.html), `random_patches`, `show_in_grid`, [`PCA`](https://scikit-learn.org/stable/modules/generated/sklearn.decomposition.PCA.html), [`FastICA`](https://scikit-learn.org/stable/modules/generated/sklearn.decomposition.FastICA.html#sklearn.decomposition.FastICA), [`DictionaryLearning`](https://scikit-learn.org/stable/modules/generated/sklearn.decomposition.DictionaryLearning.html#sklearn.decomposition.DictionaryLearning),[`numpy.argsort`](https://numpy.org/doc/stable/reference/generated/numpy.argsort.html)\n",
        "2. **Complete the basis computation and reconstruction for PCA first.**\n",
        "3. To obtain the coefficients $\\vec{x}_{pca}$ and $\\vec{x}_{ica}$, only matrix multiplication is needed. Use \"sparse_encode\" to obtain $\\vec{x}_{sc}$\n",
        "4. Since learning a sparse coding dictionary can take a long time, we provide a pre-computed basis at \"data/sc_basis.npy\" that you only need to load. **Note that the pre-computed basis only works with MNIST and a patch-size of 25!**\n",
        "As a starting point you can use the following initial values:\n",
        "- `dataset=\"mnist\"`\n",
        "- `n_patches=10000`\n",
        "- `patch_size=25`\n",
        "- `n_basis=100`\n",
        "\n",
        "And for Sparse Coding also:\n",
        "- `n_iterations=50`\n",
        "- `n_jobs=-1` and\n",
        "- `verbose=True`"
      ]
    },
    {
      "cell_type": "markdown",
      "metadata": {
        "id": "VbN8q6w8CNQQ"
      },
      "source": [
        "Import and helper functions. Do not change!"
      ]
    },
    {
      "cell_type": "code",
      "execution_count": 3,
      "metadata": {
        "scrolled": false,
        "id": "Yw_L_a_bCNQQ"
      },
      "outputs": [],
      "source": [
        "import numpy as np\n",
        "import math\n",
        "import random\n",
        "from sklearn.decomposition import PCA, FastICA, DictionaryLearning\n",
        "from matplotlib import pyplot as plt\n",
        "%matplotlib inline\n",
        "\n",
        "def random_patches(data, img_height, img_width, n_patches, patch_size):\n",
        "    # RANDOMPATCHES draw random square-shaped patches from the data.\n",
        "    #\n",
        "    # INPUT:\n",
        "    #   data : ndarray containing the data (i.e. mnist or olivetti)\n",
        "    #   img_height : height of the images\n",
        "    #   img_width : width of the images\n",
        "    #   n_patches : number of patches to be drawn\n",
        "    #   patch_size : size (both width and height) of the square-shaped patches\n",
        "    #\n",
        "    # OUTPUT:\n",
        "    #   patches : random patches\n",
        "\n",
        "    # reshape data 2d -> 3d\n",
        "    n_images = data.shape[0]\n",
        "    data = data.reshape(n_images, img_height, img_width)\n",
        "\n",
        "    # extract random patches\n",
        "    patches = []#np.zeros((n_patches, patch_size*patch_size))\n",
        "    for i in range(n_patches):\n",
        "        patch_top = random.randint(0, img_height - patch_size)\n",
        "        patch_left = random.randint(0, img_width - patch_size)\n",
        "        p = data[random.randint(0, n_images-1), patch_top:patch_top+patch_size, patch_left:patch_left+patch_size]\n",
        "        patches.append(p)\n",
        "        #patches[i,:] = p[:]\n",
        "\n",
        "    patches = np.stack(patches)\n",
        "    patches = patches.reshape(patches.shape[0], -1) #flatten each patch\n",
        "\n",
        "    return patches\n",
        "\n",
        "def show_in_grid(images, height, width):\n",
        "    # flatten images if necessary\n",
        "    images = images.reshape(images.shape[0], -1)\n",
        "\n",
        "    # normalize patches\n",
        "    images = images / (np.abs(images).max(axis=1, keepdims=True)+1e-6)\n",
        "\n",
        "    # reshape into images\n",
        "    images = images.reshape(-1, height, width)\n",
        "\n",
        "    # make images fit into a rectangular area\n",
        "    grid_width = math.ceil(math.sqrt(images.shape[0]))\n",
        "    grid_height = math.ceil(images.shape[0] / grid_width)\n",
        "\n",
        "    empty_cells = grid_width * grid_height - images.shape[0]\n",
        "\n",
        "    # fill empty cells\n",
        "    if empty_cells > 0:\n",
        "        padding = np.zeros((empty_cells, height, width))\n",
        "        images = np.concatenate((images, padding))\n",
        "\n",
        "    # rearrange basis into grid and also switch width and height so x and y axis are not switched\n",
        "    images = images.reshape(grid_height, grid_width, height, width)\n",
        "    images = images.transpose(0, 3, 1, 2)\n",
        "\n",
        "    plt.figure(figsize = (10,10))\n",
        "    plt.imshow(images.reshape(grid_height*height, grid_width*width), cmap='gray')\n",
        "    plt.show()"
      ]
    },
    {
      "cell_type": "markdown",
      "metadata": {
        "id": "O-KBZj8RCNQQ"
      },
      "source": [
        "Your solution:"
      ]
    },
    {
      "cell_type": "code",
      "execution_count": 4,
      "metadata": {
        "id": "MU0bfH84CNQQ"
      },
      "outputs": [],
      "source": [
        "## Define variables\n",
        "\n",
        "# TODO dataset : relative path to the .npz file containing the data\n",
        "dataset = 'data/olivetti.npz' #'data/olivetti.npz'\n",
        "\n",
        "# TODO n_patches : number of random patches to extract from the images\n",
        "n_patches = -1\n",
        "# TODO patch_size : size (both width and height) of the square-shaped patches\n",
        "patch_size = -1\n",
        "\n",
        "# TODO n_basis : number of new basis vectors\n",
        "n_basis = -1\n",
        "\n",
        "# TODO method : string describing whether to perform pca, ica, or sc\n",
        "method = 'pca'\n",
        "\n",
        "# TODO n_iterations : number of iterations (only for sparse coding)\n",
        "n_iterations = -1\n",
        "\n",
        "SC_LOAD_DICTIONARY = False"
      ]
    },
    {
      "cell_type": "code",
      "execution_count": 7,
      "metadata": {
        "id": "FLqhczAnCNQR",
        "outputId": "84cc761f-b864-4750-8c27-ed904ab84a1e",
        "colab": {
          "base_uri": "https://localhost:8080/",
          "height": 464
        }
      },
      "outputs": [
        {
          "output_type": "stream",
          "name": "stdout",
          "text": [
            "['data']\n",
            "(400, 4096)\n"
          ]
        },
        {
          "output_type": "display_data",
          "data": {
            "text/plain": [
              "<Figure size 640x480 with 1 Axes>"
            ],
            "image/png": "[encoded data removed]"
          },
          "metadata": {}
        }
      ],
      "source": [
        "## Compute and show the principal components\n",
        "\n",
        "# TODO load dataset\n",
        "\n",
        "data = np.load(dataset)\n",
        "print(data.files)\n",
        "images = data['data']\n",
        "\n",
        "# TODO convert data to floating point (double precision)\n",
        "\n",
        "images = images.astype(np.float64)\n",
        "\n",
        "\n",
        "# TODO get number of images (observations) and number of pixels (features)\n",
        "print(images.shape)\n",
        "n_images, n_pixels = images.shape\n",
        "\n",
        "# TODO get height and width of the images\n",
        "img_height = 64\n",
        "img_width = 64\n",
        "assert isinstance(img_height, int) and isinstance(img_width, int), \"Image dimensions need to be integers.\"\n",
        "\n",
        "images[0].reshape(img_height, img_width)\n",
        "import matplotlib.pyplot as plt\n",
        "\n",
        "# Reshape the first image\n",
        "one_image = images[0].reshape(img_height, img_width)\n",
        "\n",
        "# Display it\n",
        "plt.imshow(one_image, cmap='gray')\n",
        "plt.title(\"Example image from dataset\")\n",
        "plt.axis('off')\n",
        "plt.show()\n",
        "\n",
        "# TODO enforce mean-free data vectors Raman - (axis=0 go down and axis = 1 go across the table)\n",
        "mean_image = np.mean(images, axis=0)\n",
        "mean_free_data = -1\n",
        "\n",
        "# TODO draw random patches from data.\n",
        "\n",
        "patches = -1\n",
        "\n",
        "# TODO perform the chosen unsupervised method on the drawn patches\n",
        "if method == 'pca':\n",
        "    basis = -\n",
        "elif method == 'ica':\n",
        "    basis = -1\n",
        "elif method == 'sc':\n",
        "    if SC_LOAD_DICTIONARY:\n",
        "        basis = -1\n",
        "    else:\n",
        "        basis = -1\n",
        "\n",
        "# TODO show the new set of basis vectors (only the first n_basis)\n",
        "#show_in_grid(basis[:n_basis], patch_size, patch_size)"
      ]
    },
    {
      "cell_type": "code",
      "execution_count": 9,
      "metadata": {
        "id": "-aTcm6fyCNQR",
        "outputId": "dd5acd90-c837-41d6-8677-ab0ed03befed",
        "colab": {
          "base_uri": "https://localhost:8080/",
          "height": 365
        }
      },
      "outputs": [
        {
          "output_type": "error",
          "ename": "ValueError",
          "evalue": "empty range in randrange(0, -1)",
          "traceback": [
            "\u001b[0;31m---------------------------------------------------------------------------\u001b[0m",
            "\u001b[0;31mValueError\u001b[0m                                Traceback (most recent call last)",
            "\u001b[0;32m/tmp/ipython-input-4226634475.py\u001b[0m in \u001b[0;36m<cell line: 0>\u001b[0;34m()\u001b[0m\n\u001b[1;32m      5\u001b[0m \u001b[0;34m\u001b[0m\u001b[0m\n\u001b[1;32m      6\u001b[0m \u001b[0;31m# TODO draw a random patch\u001b[0m\u001b[0;34m\u001b[0m\u001b[0;34m\u001b[0m\u001b[0m\n\u001b[0;32m----> 7\u001b[0;31m \u001b[0mrandom_patch\u001b[0m \u001b[0;34m=\u001b[0m \u001b[0mpatches\u001b[0m\u001b[0;34m[\u001b[0m\u001b[0mrandom\u001b[0m\u001b[0;34m.\u001b[0m\u001b[0mrandint\u001b[0m\u001b[0;34m(\u001b[0m\u001b[0;36m0\u001b[0m\u001b[0;34m,\u001b[0m \u001b[0mn_patches\u001b[0m\u001b[0;34m-\u001b[0m\u001b[0;36m1\u001b[0m\u001b[0;34m)\u001b[0m\u001b[0;34m]\u001b[0m\u001b[0;34m\u001b[0m\u001b[0;34m\u001b[0m\u001b[0m\n\u001b[0m\u001b[1;32m      8\u001b[0m \u001b[0;34m\u001b[0m\u001b[0m\n\u001b[1;32m      9\u001b[0m \u001b[0;34m\u001b[0m\u001b[0m\n",
            "\u001b[0;32m/usr/lib/python3.12/random.py\u001b[0m in \u001b[0;36mrandint\u001b[0;34m(self, a, b)\u001b[0m\n\u001b[1;32m    334\u001b[0m         \"\"\"\n\u001b[1;32m    335\u001b[0m \u001b[0;34m\u001b[0m\u001b[0m\n\u001b[0;32m--> 336\u001b[0;31m         \u001b[0;32mreturn\u001b[0m \u001b[0mself\u001b[0m\u001b[0;34m.\u001b[0m\u001b[0mrandrange\u001b[0m\u001b[0;34m(\u001b[0m\u001b[0ma\u001b[0m\u001b[0;34m,\u001b[0m \u001b[0mb\u001b[0m\u001b[0;34m+\u001b[0m\u001b[0;36m1\u001b[0m\u001b[0;34m)\u001b[0m\u001b[0;34m\u001b[0m\u001b[0;34m\u001b[0m\u001b[0m\n\u001b[0m\u001b[1;32m    337\u001b[0m \u001b[0;34m\u001b[0m\u001b[0m\n\u001b[1;32m    338\u001b[0m \u001b[0;34m\u001b[0m\u001b[0m\n",
            "\u001b[0;32m/usr/lib/python3.12/random.py\u001b[0m in \u001b[0;36mrandrange\u001b[0;34m(self, start, stop, step)\u001b[0m\n\u001b[1;32m    317\u001b[0m             \u001b[0;32mif\u001b[0m \u001b[0mwidth\u001b[0m \u001b[0;34m>\u001b[0m \u001b[0;36m0\u001b[0m\u001b[0;34m:\u001b[0m\u001b[0;34m\u001b[0m\u001b[0;34m\u001b[0m\u001b[0m\n\u001b[1;32m    318\u001b[0m                 \u001b[0;32mreturn\u001b[0m \u001b[0mistart\u001b[0m \u001b[0;34m+\u001b[0m \u001b[0mself\u001b[0m\u001b[0;34m.\u001b[0m\u001b[0m_randbelow\u001b[0m\u001b[0;34m(\u001b[0m\u001b[0mwidth\u001b[0m\u001b[0;34m)\u001b[0m\u001b[0;34m\u001b[0m\u001b[0;34m\u001b[0m\u001b[0m\n\u001b[0;32m--> 319\u001b[0;31m             \u001b[0;32mraise\u001b[0m \u001b[0mValueError\u001b[0m\u001b[0;34m(\u001b[0m\u001b[0;34mf\"empty range in randrange({start}, {stop})\"\u001b[0m\u001b[0;34m)\u001b[0m\u001b[0;34m\u001b[0m\u001b[0;34m\u001b[0m\u001b[0m\n\u001b[0m\u001b[1;32m    320\u001b[0m \u001b[0;34m\u001b[0m\u001b[0m\n\u001b[1;32m    321\u001b[0m         \u001b[0;31m# Non-unit step argument supplied.\u001b[0m\u001b[0;34m\u001b[0m\u001b[0;34m\u001b[0m\u001b[0m\n",
            "\u001b[0;31mValueError\u001b[0m: empty range in randrange(0, -1)"
          ]
        }
      ],
      "source": [
        "# RECONSTRUCTION\n",
        "## Use different subsets of the new basis vectors to reconstruct a random patch\n",
        "## This is meant to visualize how including more and more basis vectors increases the information content of the reconstructed image\n",
        "from sklearn.decomposition import sparse_encode\n",
        "\n",
        "# TODO draw a random patch\n",
        "random_patch = patches[random.randint(0, n_patches-1)]\n",
        "\n",
        "\n",
        "# TODO reconstruct the random patch\n",
        "reconstructions = []\n",
        "\n",
        "def sparse_coding_reconstruction(random_patch, basis, reconstructions, n_basis):\n",
        "    for i in range(n_basis):\n",
        "        # TODO: only use the first i basis vectors\n",
        "        # TODO: compute the coefficients\n",
        "        # From sparse_encode documentation. The output of sparse_encode\n",
        "        # X ~= code * dictionary\n",
        "        coef = -1\n",
        "        # TODO: compute the reconstruction\n",
        "        x_recon = -1\n",
        "        reconstructions.append(x_recon)\n",
        "\n",
        "    return reconstructions\n",
        "\n",
        "def linear_reconstruction(random_patch, basis, reconstructions, n_basis):\n",
        "    for i in range(n_basis):\n",
        "        # TODO: only use the first i basis vectors\n",
        "        # TODO: compute the inverse basis\n",
        "        # TODO: compute the coefficients\n",
        "        # TODO: compute the reconstruction\n",
        "        x_recon = -1\n",
        "        reconstructions.append(x_recon)\n",
        "\n",
        "    return reconstructions\n",
        "\n",
        "if method == 'sc':\n",
        "    reconstructions = sparse_coding_reconstruction(\n",
        "        random_patch, basis, reconstructions, n_basis\n",
        "    )\n",
        "else:\n",
        "    reconstructions = linear_reconstruction(\n",
        "        random_patch, basis, reconstructions, n_basis\n",
        "    )\n",
        "reconstructions = np.stack(reconstructions)\n",
        "\n",
        "# TODO show the reconstructed patch\n",
        "show_in_grid(reconstructions, patch_size, patch_size)"
      ]
    },
    {
      "cell_type": "markdown",
      "metadata": {
        "id": "9NmSHg4fCNQR"
      },
      "source": [
        "*Bonus*: Implement the missing parts in the bonus section. When done correctly, your code additionally should do the following:\n",
        "1. Perform ZCA whitening, whereas $\\vec{x}_{ZCAwhite}=U\\vec{x}_{wht}$ (c.f. equation 1.3 in the lecture notes).\n",
        "2. Visualize the whitened data."
      ]
    },
    {
      "cell_type": "code",
      "execution_count": null,
      "metadata": {
        "id": "QvA0FR9cCNQR"
      },
      "outputs": [],
      "source": [
        "#% TODO epsilon : avoid negative numbers while computing stdDeviations\n",
        "epsilon = 0.1\n",
        "\n",
        "# TODO perform principal component analysis (help pca)\n",
        "# basis = -1 #get basis vector components\n",
        "\n",
        "# TODO compute the covariance matrix of the patches\n",
        "covariance = -1\n",
        "\n",
        "# TODO compute diagonal matrix S containing the standard deviations (c.f. page 6)\n",
        "std_deviations = -1\n",
        "\n",
        "# TODO pca whitening (c.f. equation 1.3)\n",
        "xPCAwhite = -1\n",
        "\n",
        "# TODO zca whitening\n",
        "xZCAwhite = -1\n",
        "\n",
        "# TODO visualize the whitened data\n",
        "# show_in_grid(xZCAwhite[:n_basis], patch_size, patch_size)"
      ]
    },
    {
      "cell_type": "markdown",
      "metadata": {
        "id": "SuvGGpXHCNQR"
      },
      "source": [
        "## Exercise 1.2: Comprehension Questions\n",
        "\n",
        "Answer the following comprehension questions either with *right* or *wrong* and briefly explain your decision:\n",
        "1. Regardless of the used method for representation learning (i.e. PCA, ICA, SC), the resulting set of basis vectors depends on the given dataset."
      ]
    },
    {
      "cell_type": "markdown",
      "metadata": {
        "id": "rRE8GEdqCNQR"
      },
      "source": [
        "[Your answer]"
      ]
    },
    {
      "cell_type": "markdown",
      "metadata": {
        "id": "2AP_H7tsCNQR"
      },
      "source": [
        "2. The first principal component has the smallest eigenvalue and covers the largest possible variance of the data."
      ]
    },
    {
      "cell_type": "markdown",
      "metadata": {
        "id": "6MXvdmAgCNQR"
      },
      "source": [
        "[Your answer]"
      ]
    },
    {
      "cell_type": "markdown",
      "metadata": {
        "id": "_v6wf7iYCNQR"
      },
      "source": [
        "3. The optimal number of principal components to retain is 42."
      ]
    },
    {
      "cell_type": "markdown",
      "metadata": {
        "id": "xPFFN1YgCNQR"
      },
      "source": [
        " [Your answer]"
      ]
    },
    {
      "cell_type": "markdown",
      "metadata": {
        "id": "pfVlis_GCNQR"
      },
      "source": [
        "4. After whitening, the features of an observation are uncorrelated and have unit variance."
      ]
    },
    {
      "cell_type": "markdown",
      "metadata": {
        "id": "EeSuneAbCNQR"
      },
      "source": [
        "[Your answer]"
      ]
    },
    {
      "cell_type": "markdown",
      "metadata": {
        "id": "g4T5frB1CNQR"
      },
      "source": [
        "5. The resulting basis vectors of the ICA (i.e. the independent components) are mutually orthogonal."
      ]
    },
    {
      "cell_type": "markdown",
      "metadata": {
        "id": "WFvQWP4fCNQR"
      },
      "source": [
        " [Your answer]"
      ]
    },
    {
      "cell_type": "markdown",
      "metadata": {
        "id": "y1Tc086ZCNQR"
      },
      "source": [
        "6. The ICA is an enhancement of the PCA which additionally aims to make the already uncorrelated features statistically independent."
      ]
    },
    {
      "cell_type": "markdown",
      "metadata": {
        "id": "vbE1SnDZCNQS"
      },
      "source": [
        " [Your answer]"
      ]
    },
    {
      "cell_type": "markdown",
      "metadata": {
        "id": "9-ziB1lpCNQS"
      },
      "source": [
        "7. The set of basis vectors of the ICA can be over-complete, i.e. more basis vectors than dimensions of the input space."
      ]
    },
    {
      "cell_type": "markdown",
      "metadata": {
        "id": "au7ps3V0CNQS"
      },
      "source": [
        " [Your answer]"
      ]
    },
    {
      "cell_type": "markdown",
      "metadata": {
        "id": "2dz73VYTCNQS"
      },
      "source": [
        "8. Sparsity means that only a few basis vectors are used to reconstruct an image."
      ]
    },
    {
      "cell_type": "markdown",
      "metadata": {
        "id": "es3ypbbDCNQS"
      },
      "source": [
        " [Your answer]"
      ]
    },
    {
      "cell_type": "markdown",
      "metadata": {
        "id": "86NE3xy0CNQS"
      },
      "source": [
        "9. The optimization problem for SC (c.f. equation 1.9 in the lecture notes) is convex."
      ]
    },
    {
      "cell_type": "markdown",
      "metadata": {
        "id": "TeB0GN7yCNQS"
      },
      "source": [
        "[Your answer]"
      ]
    },
    {
      "cell_type": "markdown",
      "metadata": {
        "id": "Dyf_UjO4CNQS"
      },
      "source": [
        "10. Unlike PCA and ICA, SC results in a linear transform of the data."
      ]
    },
    {
      "cell_type": "markdown",
      "metadata": {
        "id": "pQDV5aGmCNQS"
      },
      "source": [
        "[Your answer]"
      ]
    }
  ],
  "metadata": {
    "kernelspec": {
      "display_name": "Python 3.9.6 64-bit",
      "language": "python",
      "name": "python3"
    },
    "language_info": {
      "codemirror_mode": {
        "name": "ipython",
        "version": 3
      },
      "file_extension": ".py",
      "mimetype": "text/x-python",
      "name": "python",
      "nbconvert_exporter": "python",
      "pygments_lexer": "ipython3",
      "version": "3.8.10"
    },
    "vscode": {
      "interpreter": {
        "hash": "31f2aee4e71d21fbe5cf8b01ff0e069b9275f58929596ceb00d14d90e3e16cd6"
      }
    },
    "colab": {
      "provenance": []
    }
  },
  "nbformat": 4,
  "nbformat_minor": 0
}